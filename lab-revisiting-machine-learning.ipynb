{
 "cells": [
  {
   "cell_type": "code",
   "execution_count": 2,
   "id": "2ddc0441",
   "metadata": {},
   "outputs": [],
   "source": [
    "import pandas as pd\n",
    "import numpy as np\n",
    "import matplotlib.pyplot as plt\n",
    "import seaborn as sns \n",
    "pd.set_option('display.max_columns', None)"
   ]
  },
  {
   "cell_type": "code",
   "execution_count": 3,
   "id": "3fe9f93a",
   "metadata": {},
   "outputs": [
    {
     "name": "stderr",
     "output_type": "stream",
     "text": [
      "C:\\Users\\PC\\AppData\\Local\\Temp\\ipykernel_14852\\3673836359.py:1: DtypeWarning: Columns (8) have mixed types. Specify dtype option on import or set low_memory=False.\n",
      "  data = pd.read_csv('learningSet.csv')\n"
     ]
    }
   ],
   "source": [
    "data = pd.read_csv('learningSet.csv')"
   ]
  },
  {
   "cell_type": "code",
   "execution_count": 4,
   "id": "c797182d",
   "metadata": {},
   "outputs": [],
   "source": [
    "categorical = data.select_dtypes(object)"
   ]
  },
  {
   "cell_type": "code",
   "execution_count": 5,
   "id": "738ab11c",
   "metadata": {},
   "outputs": [],
   "source": [
    "nulls_percent_df = pd.DataFrame(categorical.isna().sum()/len(categorical)).reset_index()"
   ]
  },
  {
   "cell_type": "code",
   "execution_count": 6,
   "id": "dfe31dcc",
   "metadata": {},
   "outputs": [],
   "source": [
    "nulls_percent_df.columns = ['column_name', 'nulls_percentage']"
   ]
  },
  {
   "cell_type": "code",
   "execution_count": 7,
   "id": "fabf84bf",
   "metadata": {},
   "outputs": [],
   "source": [
    "columns_above_threshold = nulls_percent_df[nulls_percent_df['nulls_percentage']>0.5]"
   ]
  },
  {
   "cell_type": "code",
   "execution_count": 8,
   "id": "d296c154",
   "metadata": {},
   "outputs": [],
   "source": [
    "# columns_above_threshold"
   ]
  },
  {
   "cell_type": "code",
   "execution_count": 9,
   "id": "422dcea6",
   "metadata": {},
   "outputs": [],
   "source": [
    "drop_columns_list = list(columns_above_threshold['column_name'])"
   ]
  },
  {
   "cell_type": "code",
   "execution_count": 10,
   "id": "5d1bacd0",
   "metadata": {},
   "outputs": [],
   "source": [
    "categorical.drop(drop_columns_list, axis=1, inplace=True)"
   ]
  },
  {
   "cell_type": "code",
   "execution_count": 11,
   "id": "2eea7251",
   "metadata": {},
   "outputs": [],
   "source": [
    "# categorical"
   ]
  },
  {
   "cell_type": "code",
   "execution_count": 12,
   "id": "b4ba2d3d",
   "metadata": {},
   "outputs": [],
   "source": [
    "categorical.drop(['OSOURCE', 'ZIP'], axis=1, inplace=True)"
   ]
  },
  {
   "cell_type": "code",
   "execution_count": 13,
   "id": "b90a4046",
   "metadata": {},
   "outputs": [],
   "source": [
    "# categorical"
   ]
  },
  {
   "cell_type": "code",
   "execution_count": 14,
   "id": "c593fdea",
   "metadata": {},
   "outputs": [],
   "source": [
    "categorical = categorical.apply(lambda x: x.replace(\" \", np.NaN))"
   ]
  },
  {
   "cell_type": "code",
   "execution_count": 15,
   "id": "0aefbde3",
   "metadata": {},
   "outputs": [],
   "source": [
    "nulls_percent_df = pd.DataFrame(categorical.isna().sum()/len(categorical)).reset_index()\n",
    "nulls_percent_df.columns = ['column_name', 'nulls_percentage']\n",
    "\n",
    "columns_above_threshold = nulls_percent_df[nulls_percent_df['nulls_percentage']>0.5]\n",
    "\n",
    "drop_columns_list = list(columns_above_threshold['column_name'])\n",
    "\n",
    "categorical.drop(drop_columns_list, axis=1, inplace=True)\n",
    "\n",
    "# categorical"
   ]
  },
  {
   "cell_type": "code",
   "execution_count": 16,
   "id": "eab1f10c",
   "metadata": {},
   "outputs": [],
   "source": [
    "# categorical['GENDER'].unique()"
   ]
  },
  {
   "cell_type": "code",
   "execution_count": 17,
   "id": "cb1f0d99",
   "metadata": {},
   "outputs": [],
   "source": [
    "list_gender = ['C', 'U', 'J', 'A']"
   ]
  },
  {
   "cell_type": "code",
   "execution_count": 18,
   "id": "c8f39499",
   "metadata": {},
   "outputs": [],
   "source": [
    "categorical['GENDER'] = categorical['GENDER'].fillna('F')"
   ]
  },
  {
   "cell_type": "code",
   "execution_count": 19,
   "id": "1acc3fdf",
   "metadata": {},
   "outputs": [],
   "source": [
    "categorical['GENDER'] = np.where((categorical['GENDER'].isin(list_gender)), 'other', categorical['GENDER'])"
   ]
  },
  {
   "cell_type": "code",
   "execution_count": 20,
   "id": "7d5d09f3",
   "metadata": {},
   "outputs": [],
   "source": [
    "# categorical['GENDER'].unique()"
   ]
  },
  {
   "cell_type": "code",
   "execution_count": 21,
   "id": "21bca091",
   "metadata": {},
   "outputs": [],
   "source": [
    "df = pd.DataFrame(categorical['STATE'].value_counts()).reset_index()\n",
    "\n",
    "df.columns = ['state', 'count']\n",
    "other_states = list(df[df['count']<2500]['state'])\n",
    "\n",
    "\n",
    "def clean_state(x):\n",
    "    if x in other_states:\n",
    "        return 'other'\n",
    "    else:\n",
    "        return x\n",
    "    \n",
    "categorical['STATE'] = list(map(clean_state, categorical['STATE']))"
   ]
  },
  {
   "cell_type": "code",
   "execution_count": 22,
   "id": "c3bf1c57",
   "metadata": {},
   "outputs": [],
   "source": [
    "# categorical"
   ]
  },
  {
   "cell_type": "code",
   "execution_count": 23,
   "id": "2856c606",
   "metadata": {},
   "outputs": [],
   "source": [
    "# categorical['STATE'].unique()"
   ]
  },
  {
   "cell_type": "markdown",
   "id": "e6c0b81a",
   "metadata": {},
   "source": [
    "# Lab 2"
   ]
  },
  {
   "cell_type": "code",
   "execution_count": 50,
   "id": "057276f3",
   "metadata": {},
   "outputs": [],
   "source": [
    "numerical = data.select_dtypes(np.number)"
   ]
  },
  {
   "cell_type": "code",
   "execution_count": 51,
   "id": "f5c3c810",
   "metadata": {},
   "outputs": [],
   "source": [
    "df = pd.DataFrame(numerical.isna().sum()).reset_index()\n",
    "df.columns = ['column_name', 'nulls']\n",
    "\n",
    "# df[df['nulls']>0]"
   ]
  },
  {
   "cell_type": "code",
   "execution_count": 52,
   "id": "dd4fc2db",
   "metadata": {},
   "outputs": [],
   "source": [
    "numerical['AGE'] = numerical[\"AGE\"].fillna(np.mean(numerical['AGE']))"
   ]
  },
  {
   "cell_type": "code",
   "execution_count": 53,
   "id": "707790d4",
   "metadata": {},
   "outputs": [],
   "source": [
    "numerical['INCOME'] = numerical['INCOME'].fillna(5.0)"
   ]
  },
  {
   "cell_type": "code",
   "execution_count": 54,
   "id": "bc4db1a0",
   "metadata": {},
   "outputs": [],
   "source": [
    "numerical['CLUSTER2'] = numerical['CLUSTER2'].fillna(np.ceil(np.mean(numerical['CLUSTER2'])))"
   ]
  },
  {
   "cell_type": "code",
   "execution_count": 55,
   "id": "45c5e699",
   "metadata": {},
   "outputs": [],
   "source": [
    "numerical['WEALTH2'] = numerical['WEALTH2'].astype('object')\n",
    "numerical['WEALTH2'] = numerical['WEALTH2'].fillna('5.0')"
   ]
  },
  {
   "cell_type": "code",
   "execution_count": 56,
   "id": "873a3749",
   "metadata": {},
   "outputs": [],
   "source": [
    "numerical['TIMELAG'] = numerical['TIMELAG'].fillna(0.0)"
   ]
  },
  {
   "cell_type": "code",
   "execution_count": 57,
   "id": "4b0091ce",
   "metadata": {},
   "outputs": [],
   "source": [
    "numerical_nulls = pd.DataFrame(numerical.isna().sum()/len(data)).reset_index()\n",
    "numerical_nulls.columns = ['column_name', 'nulls_percentage']\n",
    "\n",
    "# numerical_nulls[numerical_nulls['nulls_percentage']>0]"
   ]
  },
  {
   "cell_type": "code",
   "execution_count": 58,
   "id": "f4afefed",
   "metadata": {},
   "outputs": [],
   "source": [
    "columns_above_threshold = numerical_nulls[numerical_nulls['nulls_percentage']>0.25]"
   ]
  },
  {
   "cell_type": "code",
   "execution_count": 59,
   "id": "352a9e14",
   "metadata": {},
   "outputs": [],
   "source": [
    "# columns_above_threshold"
   ]
  },
  {
   "cell_type": "code",
   "execution_count": 60,
   "id": "12bdfd09",
   "metadata": {},
   "outputs": [],
   "source": [
    "drop_columns_list = list(columns_above_threshold['column_name'])"
   ]
  },
  {
   "cell_type": "code",
   "execution_count": 61,
   "id": "7300023d",
   "metadata": {},
   "outputs": [],
   "source": [
    "numerical.drop(drop_columns_list, axis=1, inplace=True)"
   ]
  },
  {
   "cell_type": "code",
   "execution_count": 62,
   "id": "a6a2bf07",
   "metadata": {},
   "outputs": [],
   "source": [
    "numerical_nulls = pd.DataFrame(numerical.isna().sum()/len(data)).reset_index()\n",
    "numerical_nulls.columns = ['column_name', 'nulls_percentage']\n",
    "\n",
    "# numerical_nulls[numerical_nulls['nulls_percentage']>0]"
   ]
  },
  {
   "cell_type": "code",
   "execution_count": 63,
   "id": "47f34a4a",
   "metadata": {},
   "outputs": [],
   "source": [
    "# data['GEOCODE2'] "
   ]
  },
  {
   "cell_type": "code",
   "execution_count": 64,
   "id": "9ad18ab7",
   "metadata": {},
   "outputs": [],
   "source": [
    "drop_columns_list = [\n",
    "'ADATE_3',\n",
    "'ADATE_4',\n",
    "'ADATE_6',\n",
    "'ADATE_7',\n",
    "'ADATE_8',\n",
    "'ADATE_9',\n",
    "'ADATE_11',\n",
    "'ADATE_12',\n",
    "'ADATE_14',\n",
    "'ADATE_16',\n",
    "'ADATE_18']\n",
    "\n",
    "numerical.drop(drop_columns_list, axis=1, inplace=True)"
   ]
  },
  {
   "cell_type": "code",
   "execution_count": 65,
   "id": "af86569f",
   "metadata": {},
   "outputs": [
    {
     "name": "stderr",
     "output_type": "stream",
     "text": [
      "C:\\Users\\PC\\AppData\\Local\\Temp\\ipykernel_14852\\1064374198.py:1: UserWarning: \n",
      "\n",
      "`distplot` is a deprecated function and will be removed in seaborn v0.14.0.\n",
      "\n",
      "Please adapt your code to use either `displot` (a figure-level function with\n",
      "similar flexibility) or `histplot` (an axes-level function for histograms).\n",
      "\n",
      "For a guide to updating your code to use the new functions, please see\n",
      "https://gist.github.com/mwaskom/de44147ed2974457ad6372750bbe5751\n",
      "\n",
      "  sns.distplot([numerical['MSA']])\n"
     ]
    },
    {
     "data": {
      "image/png": "[encoded data removed]",
      "text/plain": [
       "<Figure size 640x480 with 1 Axes>"
      ]
     },
     "metadata": {},
     "output_type": "display_data"
    }
   ],
   "source": [
    "sns.distplot([numerical['MSA']]) \n",
    "plt.show()"
   ]
  },
  {
   "cell_type": "code",
   "execution_count": 66,
   "id": "80aaf2d4",
   "metadata": {},
   "outputs": [
    {
     "data": {
      "text/plain": [
       "0.0       21333\n",
       "4480.0     4606\n",
       "1600.0     4059\n",
       "2160.0     2586\n",
       "520.0      1685\n",
       "          ...  \n",
       "9140.0        1\n",
       "3200.0        1\n",
       "9280.0        1\n",
       "743.0         1\n",
       "8480.0        1\n",
       "Name: MSA, Length: 299, dtype: int64"
      ]
     },
     "execution_count": 66,
     "metadata": {},
     "output_type": "execute_result"
    }
   ],
   "source": [
    "numerical['MSA'].value_counts(dropna=False)"
   ]
  },
  {
   "cell_type": "code",
   "execution_count": 67,
   "id": "4142674b",
   "metadata": {},
   "outputs": [],
   "source": [
    "# It can be that nans are 0, people tend to not fill queries when it´s 0. And it is also the mode."
   ]
  },
  {
   "cell_type": "code",
   "execution_count": 68,
   "id": "745f2d9c",
   "metadata": {},
   "outputs": [],
   "source": [
    "numerical['MSA'] = numerical['MSA'].fillna(0)"
   ]
  },
  {
   "cell_type": "code",
   "execution_count": 69,
   "id": "05f5a6d2",
   "metadata": {},
   "outputs": [
    {
     "name": "stderr",
     "output_type": "stream",
     "text": [
      "C:\\Users\\PC\\AppData\\Local\\Temp\\ipykernel_14852\\655101814.py:1: UserWarning: \n",
      "\n",
      "`distplot` is a deprecated function and will be removed in seaborn v0.14.0.\n",
      "\n",
      "Please adapt your code to use either `displot` (a figure-level function with\n",
      "similar flexibility) or `histplot` (an axes-level function for histograms).\n",
      "\n",
      "For a guide to updating your code to use the new functions, please see\n",
      "https://gist.github.com/mwaskom/de44147ed2974457ad6372750bbe5751\n",
      "\n",
      "  sns.distplot([numerical['ADI']])\n"
     ]
    },
    {
     "data": {
      "image/png": "[encoded data removed]",
      "text/plain": [
       "<Figure size 640x480 with 1 Axes>"
      ]
     },
     "metadata": {},
     "output_type": "display_data"
    }
   ],
   "source": [
    "sns.distplot([numerical['ADI']]) \n",
    "plt.show()"
   ]
  },
  {
   "cell_type": "code",
   "execution_count": 70,
   "id": "4960906c",
   "metadata": {},
   "outputs": [],
   "source": [
    "numerical['ADI'] = numerical['ADI'].fillna('mean')"
   ]
  },
  {
   "cell_type": "code",
   "execution_count": 71,
   "id": "de6cac0b",
   "metadata": {},
   "outputs": [
    {
     "name": "stderr",
     "output_type": "stream",
     "text": [
      "C:\\Users\\PC\\AppData\\Local\\Temp\\ipykernel_14852\\1601925620.py:1: UserWarning: \n",
      "\n",
      "`distplot` is a deprecated function and will be removed in seaborn v0.14.0.\n",
      "\n",
      "Please adapt your code to use either `displot` (a figure-level function with\n",
      "similar flexibility) or `histplot` (an axes-level function for histograms).\n",
      "\n",
      "For a guide to updating your code to use the new functions, please see\n",
      "https://gist.github.com/mwaskom/de44147ed2974457ad6372750bbe5751\n",
      "\n",
      "  sns.distplot([numerical['DMA']])\n"
     ]
    },
    {
     "data": {
      "image/png": "[encoded data removed]",
      "text/plain": [
       "<Figure size 640x480 with 1 Axes>"
      ]
     },
     "metadata": {},
     "output_type": "display_data"
    }
   ],
   "source": [
    "sns.distplot([numerical['DMA']]) \n",
    "plt.show()"
   ]
  },
  {
   "cell_type": "code",
   "execution_count": 72,
   "id": "9cca5883",
   "metadata": {},
   "outputs": [],
   "source": [
    "numerical['DMA'] = numerical['DMA'].fillna('mean')"
   ]
  },
  {
   "cell_type": "code",
   "execution_count": 73,
   "id": "bacee74c",
   "metadata": {},
   "outputs": [
    {
     "name": "stderr",
     "output_type": "stream",
     "text": [
      "C:\\Users\\PC\\AppData\\Local\\Temp\\ipykernel_14852\\3703687866.py:1: UserWarning: \n",
      "\n",
      "`distplot` is a deprecated function and will be removed in seaborn v0.14.0.\n",
      "\n",
      "Please adapt your code to use either `displot` (a figure-level function with\n",
      "similar flexibility) or `histplot` (an axes-level function for histograms).\n",
      "\n",
      "For a guide to updating your code to use the new functions, please see\n",
      "https://gist.github.com/mwaskom/de44147ed2974457ad6372750bbe5751\n",
      "\n",
      "  sns.distplot([numerical['NEXTDATE']])\n"
     ]
    },
    {
     "data": {
      "image/png": "[encoded data removed]",
      "text/plain": [
       "<Figure size 640x480 with 1 Axes>"
      ]
     },
     "metadata": {},
     "output_type": "display_data"
    }
   ],
   "source": [
    "sns.distplot([numerical['NEXTDATE']]) \n",
    "plt.show()"
   ]
  },
  {
   "cell_type": "code",
   "execution_count": 87,
   "id": "67b96e31",
   "metadata": {},
   "outputs": [],
   "source": [
    "# It´s ver skewed to the right so I´ll replace it with the median. Because the median is not affected by the outliers.\n",
    "\n",
    "numerical['NEXTDATE'] = numerical['NEXTDATE'].fillna(numerical['NEXTDATE'].mode())"
   ]
  },
  {
   "cell_type": "code",
   "execution_count": 88,
   "id": "4cd1414c",
   "metadata": {},
   "outputs": [
    {
     "data": {
      "text/plain": [
       "0        9003.0\n",
       "1        9504.0\n",
       "2        9101.0\n",
       "3        8711.0\n",
       "4        8005.0\n",
       "          ...  \n",
       "95407    9204.0\n",
       "95408    9204.0\n",
       "95409    9501.0\n",
       "95410    8704.0\n",
       "95411    8809.0\n",
       "Name: NEXTDATE, Length: 95412, dtype: float64"
      ]
     },
     "execution_count": 88,
     "metadata": {},
     "output_type": "execute_result"
    }
   ],
   "source": [
    "numerical['NEXTDATE']"
   ]
  },
  {
   "cell_type": "code",
   "execution_count": null,
   "id": "54584633",
   "metadata": {},
   "outputs": [],
   "source": []
  }
 ],
 "metadata": {
  "kernelspec": {
   "display_name": "Python 3 (ipykernel)",
   "language": "python",
   "name": "python3"
  },
  "language_info": {
   "codemirror_mode": {
    "name": "ipython",
    "version": 3
   },
   "file_extension": ".py",
   "mimetype": "text/x-python",
   "name": "python",
   "nbconvert_exporter": "python",
   "pygments_lexer": "ipython3",
   "version": "3.10.9"
  }
 },
 "nbformat": 4,
 "nbformat_minor": 5
}
